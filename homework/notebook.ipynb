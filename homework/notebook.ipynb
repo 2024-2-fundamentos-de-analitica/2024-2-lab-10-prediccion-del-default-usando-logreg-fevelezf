{
 "cells": [
  {
   "cell_type": "code",
   "execution_count": 28,
   "metadata": {},
   "outputs": [],
   "source": [
    "import pandas as pd\n",
    "from sklearn.pipeline import Pipeline\n",
    "from sklearn.compose import ColumnTransformer\n",
    "from sklearn.preprocessing import OneHotEncoder, MinMaxScaler\n",
    "from sklearn.ensemble import RandomForestClassifier\n",
    "from sklearn.model_selection import GridSearchCV\n",
    "from sklearn.metrics import confusion_matrix\n",
    "from sklearn.metrics import precision_score, balanced_accuracy_score, recall_score, f1_score\n",
    "from sklearn.feature_selection import SelectKBest, f_classif\n",
    "from sklearn.linear_model import LogisticRegression\n",
    "from sklearn.model_selection import train_test_split, cross_val_score\n",
    "import numpy as np\n",
    "import gzip\n",
    "import pickle\n",
    "import json\n",
    "import os\n",
    "import zipfile"
   ]
  },
  {
   "cell_type": "code",
   "execution_count": 3,
   "metadata": {},
   "outputs": [],
   "source": [
    "# Cargar los datos\n",
    "train_df = pd.read_csv('../files/input/train_data.csv/train_default_of_credit_card_clients.csv')\n",
    "test_df = pd.read_csv('../files/input/test_data.csv/test_default_of_credit_card_clients.csv')\n",
    "\n",
    "# Renombrar la columna \"default payment next month\" a \"default\"\n",
    "train_df.rename(columns={'default payment next month': 'default'}, inplace=True)\n",
    "test_df.rename(columns={'default payment next month': 'default'}, inplace=True)\n",
    "\n",
    "# Remover la columna \"ID\"\n",
    "train_df.drop(columns=['ID'], inplace=True)\n",
    "test_df.drop(columns=['ID'], inplace=True)\n",
    "\n",
    "# Eliminar registros con información no disponible\n",
    "train_df.dropna(inplace=True)\n",
    "test_df.dropna(inplace=True)\n",
    "\n",
    "# Agrupar valores de EDUCATION > 4 en la categoría \"others\"\n",
    "train_df['EDUCATION'] = train_df['EDUCATION'].apply(lambda x: 4 if x > 4 else x)\n",
    "test_df['EDUCATION'] = test_df['EDUCATION'].apply(lambda x: 4 if x > 4 else x)"
   ]
  },
  {
   "cell_type": "code",
   "execution_count": 4,
   "metadata": {},
   "outputs": [],
   "source": [
    "# Dividir los datos en características (X) y etiquetas (y)\n",
    "x_train = train_df.drop(columns=['default'])\n",
    "y_train = train_df['default']\n",
    "x_test = test_df.drop(columns=['default'])\n",
    "y_test = test_df['default']"
   ]
  },
  {
   "cell_type": "code",
   "execution_count": 38,
   "metadata": {},
   "outputs": [],
   "source": [
    "# Identificar columnas categóricas y numéricas\n",
    "categorical_cols = ['SEX', 'EDUCATION', 'MARRIAGE']\n",
    "numeric_cols = [col for col in x_train.columns if col not in categorical_cols]\n",
    "\n",
    "# Crear un transformador para las columnas categóricas y numéricas\n",
    "preprocessor = ColumnTransformer(\n",
    "    transformers=[\n",
    "        ('cat', OneHotEncoder(), categorical_cols),\n",
    "        ('num', MinMaxScaler(), numeric_cols)\n",
    "    ],\n",
    "        remainder='passthrough'\n",
    "    )\n",
    "\n",
    "k_best = SelectKBest(f_classif)\n",
    "\n",
    "model = LogisticRegression(random_state=42)\n",
    "\n",
    "pipeline = Pipeline(\n",
    "\tsteps=[\n",
    "\t\t(\"preprocessor\", preprocessor),\n",
    "\t\t(\"k_best\", k_best),\n",
    "\t\t(\"model\", model)\n",
    "\t]\n",
    ")"
   ]
  },
  {
   "cell_type": "code",
   "execution_count": 40,
   "metadata": {},
   "outputs": [
    {
     "name": "stdout",
     "output_type": "stream",
     "text": [
      "Pipeline(steps=[('preprocessor',\n",
      "                 ColumnTransformer(remainder='passthrough',\n",
      "                                   transformers=[('cat', OneHotEncoder(),\n",
      "                                                  ['SEX', 'EDUCATION',\n",
      "                                                   'MARRIAGE']),\n",
      "                                                 ('num', MinMaxScaler(),\n",
      "                                                  ['LIMIT_BAL', 'AGE', 'PAY_0',\n",
      "                                                   'PAY_2', 'PAY_3', 'PAY_4',\n",
      "                                                   'PAY_5', 'PAY_6',\n",
      "                                                   'BILL_AMT1', 'BILL_AMT2',\n",
      "                                                   'BILL_AMT3', 'BILL_AMT4',\n",
      "                                                   'BILL_AMT5', 'BILL_AMT6',\n",
      "                                                   'PAY_AMT1', 'PAY_AMT2',\n",
      "                                                   'PAY_AMT3', 'PAY_AMT4',\n",
      "                                                   'PAY_AMT5', 'PAY_AMT6'])])),\n",
      "                ('k_best', SelectKBest()),\n",
      "                ('model', LogisticRegression(random_state=42))])\n"
     ]
    }
   ],
   "source": [
    "print(pipeline)"
   ]
  },
  {
   "cell_type": "code",
   "execution_count": null,
   "metadata": {},
   "outputs": [
    {
     "name": "stdout",
     "output_type": "stream",
     "text": [
      "Fitting 10 folds for each of 161 candidates, totalling 1610 fits\n"
     ]
    }
   ],
   "source": [
    "param_grid = {\n",
    "\t\"k_best__k\": range(1, len(x_train.columns) + 1),\n",
    "\t\"model__C\": np.logspace(-3, 3, 7)\n",
    "}\n",
    "grid_search = GridSearchCV(\n",
    "\tpipeline,\n",
    "\tparam_grid=param_grid,\n",
    "\tcv=10,\n",
    "\tscoring=\"balanced_accuracy\",\n",
    "\tn_jobs=-1,\n",
    "\trefit=True,\n",
    "\tverbose=2\n",
    ")\n",
    "grid_search.fit(x_train, y_train)\n",
    "best_model = grid_search"
   ]
  },
  {
   "cell_type": "code",
   "execution_count": 43,
   "metadata": {},
   "outputs": [
    {
     "name": "stdout",
     "output_type": "stream",
     "text": [
      "GridSearchCV(cv=10,\n",
      "             estimator=Pipeline(steps=[('preprocessor',\n",
      "                                        ColumnTransformer(remainder='passthrough',\n",
      "                                                          transformers=[('cat',\n",
      "                                                                         OneHotEncoder(),\n",
      "                                                                         ['SEX',\n",
      "                                                                          'EDUCATION',\n",
      "                                                                          'MARRIAGE']),\n",
      "                                                                        ('num',\n",
      "                                                                         MinMaxScaler(),\n",
      "                                                                         ['LIMIT_BAL',\n",
      "                                                                          'AGE',\n",
      "                                                                          'PAY_0',\n",
      "                                                                          'PAY_2',\n",
      "                                                                          'PAY_3',\n",
      "                                                                          'PAY_4',\n",
      "                                                                          'PAY_5',\n",
      "                                                                          'PAY_6',\n",
      "                                                                          'BILL_AMT1',\n",
      "                                                                          'BILL_AMT2',\n",
      "                                                                          'BILL_AMT3',\n",
      "                                                                          'BILL_AMT4',\n",
      "                                                                          'BILL_AMT5',\n",
      "                                                                          'BILL_AMT6',\n",
      "                                                                          'PAY_AMT1',\n",
      "                                                                          'PAY_AMT2',\n",
      "                                                                          'PAY_AMT3',\n",
      "                                                                          'PAY_AMT4',\n",
      "                                                                          'PAY_AMT5',\n",
      "                                                                          'PAY_AMT6'])])),\n",
      "                                       ('k_best', SelectKBest()),\n",
      "                                       ('model',\n",
      "                                        LogisticRegression(random_state=42))]),\n",
      "             n_jobs=-1,\n",
      "             param_grid={'k_best__k': range(1, 24),\n",
      "                         'model__C': array([1.e-03, 1.e-02, 1.e-01, 1.e+00, 1.e+01, 1.e+02, 1.e+03])},\n",
      "             scoring='balanced_accuracy', verbose=2)\n"
     ]
    }
   ],
   "source": [
    "print(best_model)"
   ]
  },
  {
   "cell_type": "code",
   "execution_count": 44,
   "metadata": {},
   "outputs": [],
   "source": [
    "# Guardar el modelo comprimido\n",
    "with gzip.open('../files/models/model.pkl.gz', 'wb') as f:\n",
    "    pickle.dump(best_model, f)"
   ]
  },
  {
   "cell_type": "code",
   "execution_count": 45,
   "metadata": {},
   "outputs": [],
   "source": [
    "# Predecir en los conjuntos de entrenamiento y prueba\n",
    "y_train_pred = best_model.predict(x_train)\n",
    "y_test_pred = best_model.predict(x_test)\n",
    "\n",
    "# Calcular métricas para el conjunto de entrenamiento\n",
    "train_metrics = {\n",
    "    'type': 'metrics',\n",
    "    'dataset': 'train',\n",
    "    'precision': precision_score(y_train, y_train_pred),\n",
    "    'balanced_accuracy': balanced_accuracy_score(y_train, y_train_pred),\n",
    "    'recall': recall_score(y_train, y_train_pred),\n",
    "    'f1_score': f1_score(y_train, y_train_pred)\n",
    "}\n",
    "\n",
    "# Calcular métricas para el conjunto de prueba\n",
    "test_metrics = {\n",
    "    'type': 'metrics',\n",
    "    'dataset': 'test',\n",
    "    'precision': precision_score(y_test, y_test_pred),\n",
    "    'balanced_accuracy': balanced_accuracy_score(y_test, y_test_pred),\n",
    "    'recall': recall_score(y_test, y_test_pred),\n",
    "    'f1_score': f1_score(y_test, y_test_pred)\n",
    "}\n",
    "# Calcular la matriz de confusión para el conjunto de entrenamiento\n",
    "train_cm = confusion_matrix(y_train, y_train_pred)\n",
    "train_cm_dict = {\n",
    "    'type': 'cm_matrix',\n",
    "    'dataset': 'train',\n",
    "    'true_0': {'predicted_0': int(train_cm[0, 0]), 'predicted_1': int(train_cm[0, 1])},\n",
    "    'true_1': {'predicted_0': int(train_cm[1, 0]), 'predicted_1': int(train_cm[1, 1])}\n",
    "}\n",
    "\n",
    "# Calcular la matriz de confusión para el conjunto de prueba\n",
    "test_cm = confusion_matrix(y_test, y_test_pred)\n",
    "test_cm_dict = {\n",
    "    'type': 'cm_matrix',\n",
    "    'dataset': 'test',\n",
    "    'true_0': {'predicted_0': int(test_cm[0, 0]), 'predicted_1': int(test_cm[0, 1])},\n",
    "    'true_1': {'predicted_0': int(test_cm[1, 0]), 'predicted_1': int(test_cm[1, 1])}\n",
    "}\n",
    "# Guardar las métricas y matrices de confusión en un archivo JSON\n",
    "with open(\"../files/output/metrics.json\", \"w\") as f:\n",
    "    json.dump(train_metrics, f)\n",
    "    f.write('\\n')  # Nueva línea\n",
    "    json.dump(test_metrics, f)\n",
    "    f.write('\\n')  # Nueva línea\n",
    "    json.dump(train_cm_dict, f)\n",
    "    f.write('\\n')  # Nueva línea\n",
    "    json.dump(test_cm_dict, f)\n",
    "    f.write('\\n')  # Nueva línea"
   ]
  },
  {
   "cell_type": "code",
   "execution_count": null,
   "metadata": {},
   "outputs": [],
   "source": []
  }
 ],
 "metadata": {
  "kernelspec": {
   "display_name": ".venv",
   "language": "python",
   "name": "python3"
  },
  "language_info": {
   "codemirror_mode": {
    "name": "ipython",
    "version": 3
   },
   "file_extension": ".py",
   "mimetype": "text/x-python",
   "name": "python",
   "nbconvert_exporter": "python",
   "pygments_lexer": "ipython3",
   "version": "3.13.1"
  }
 },
 "nbformat": 4,
 "nbformat_minor": 2
}
